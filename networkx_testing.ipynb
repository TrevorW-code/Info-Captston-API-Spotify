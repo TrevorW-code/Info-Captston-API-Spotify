{
 "cells": [
  {
   "cell_type": "markdown",
   "id": "c07020f0",
   "metadata": {},
   "source": [
    "# Project Plan\n",
    "\n",
    "After discussing with Robin Burke, the general model will include have multiple levels for detecting for the recommender system\n",
    "- Last FM to start the cluster\n",
    "- use eucliedean distance, and only draw connections between \"djable\" nodes\n",
    "\n",
    "## Data to Test\n",
    "\n",
    "- [🎹 Spotify Tracks Dataset](https://www.kaggle.com/datasets/maharshipandya/-spotify-tracks-dataset)"
   ]
  },
  {
   "cell_type": "code",
   "execution_count": 1,
   "id": "c13a1938",
   "metadata": {},
   "outputs": [],
   "source": [
    "## IMPORTS ##\n",
    "import seaborn as sns\n",
    "import pandas as pd\n",
    "import networkx as nx\n",
    "import numpy as np\n",
    "import requests\n",
    "import re\n",
    "from collections import Counter\n",
    "import os\n",
    "from kmodes.kmodes import KModes\n",
    "import spotipy\n",
    "import keys"
   ]
  },
  {
   "cell_type": "code",
   "execution_count": 2,
   "id": "13c94226",
   "metadata": {},
   "outputs": [],
   "source": [
    "# looking at dataset of songs\n",
    "df = pd.read_csv('dataset.csv')"
   ]
  },
  {
   "cell_type": "code",
   "execution_count": 3,
   "id": "2a2f0c46",
   "metadata": {},
   "outputs": [
    {
     "data": {
      "text/plain": [
       "array(['acoustic', 'afrobeat', 'alt-rock', 'alternative', 'ambient',\n",
       "       'anime', 'black-metal', 'bluegrass', 'blues', 'brazil',\n",
       "       'breakbeat', 'british', 'cantopop', 'chicago-house', 'children',\n",
       "       'chill', 'classical', 'club', 'comedy', 'country', 'dance',\n",
       "       'dancehall', 'death-metal', 'deep-house', 'detroit-techno',\n",
       "       'disco', 'disney', 'drum-and-bass', 'dub', 'dubstep', 'edm',\n",
       "       'electro', 'electronic', 'emo', 'folk', 'forro', 'french', 'funk',\n",
       "       'garage', 'german', 'gospel', 'goth', 'grindcore', 'groove',\n",
       "       'grunge', 'guitar', 'happy', 'hard-rock', 'hardcore', 'hardstyle',\n",
       "       'heavy-metal', 'hip-hop', 'honky-tonk', 'house', 'idm', 'indian',\n",
       "       'indie', 'indie-pop', 'industrial', 'iranian', 'j-dance', 'j-idol',\n",
       "       'j-pop', 'j-rock', 'jazz', 'k-pop', 'kids', 'latin', 'latino',\n",
       "       'malay', 'mandopop', 'metal', 'metalcore', 'minimal-techno', 'mpb',\n",
       "       'new-age', 'opera', 'pagode', 'party', 'piano', 'pop', 'pop-film',\n",
       "       'power-pop', 'progressive-house', 'psych-rock', 'punk',\n",
       "       'punk-rock', 'r-n-b', 'reggae', 'reggaeton', 'rock', 'rock-n-roll',\n",
       "       'rockabilly', 'romance', 'sad', 'salsa', 'samba', 'sertanejo',\n",
       "       'show-tunes', 'singer-songwriter', 'ska', 'sleep', 'songwriter',\n",
       "       'soul', 'spanish', 'study', 'swedish', 'synth-pop', 'tango',\n",
       "       'techno', 'trance', 'trip-hop', 'turkish', 'world-music'],\n",
       "      dtype=object)"
      ]
     },
     "execution_count": 3,
     "metadata": {},
     "output_type": "execute_result"
    }
   ],
   "source": [
    "# All the genres in the dataframe\n",
    "np.unique(df.track_genre)"
   ]
  },
  {
   "cell_type": "markdown",
   "id": "7d0862a2",
   "metadata": {},
   "source": [
    "## EDA\n",
    "\n",
    "After doing some basic data exploration, I got into the meat of the project. I decided that I needed a few things to determine, like how I was going to build the edges of the network."
   ]
  },
  {
   "cell_type": "markdown",
   "id": "39d748f6",
   "metadata": {},
   "source": [
    "[keys.py](https://github.com/schwartzadev/dj-recommender/blob/master/keys.py)\n",
    "\n",
    "\n",
    "- Rules for Building Edges\n",
    "    - BPM within 8 of each other\n",
    "    - must be within similar key --> Camelot\n",
    "    - must be at least danceability of 0.5, otherwise add and ignore\n",
    "    - must be at least popularity of 0.7, otherwise add and ignore\n",
    "    \n",
    "    \n",
    "### **The first thing I wanted to do was build helper functions**"
   ]
  },
  {
   "cell_type": "code",
   "execution_count": 10,
   "id": "669ccb63",
   "metadata": {},
   "outputs": [],
   "source": [
    "# Helper Functions\n",
    "\n",
    "def _calc_bpm_range(bpm,brange=8):\n",
    "    '''\n",
    "    a helper function that calculates the bpm of a song\n",
    "    \n",
    "    @param bpm: bpm of song\n",
    "    @param brange: number to add/subtract from the given bpm used to create the bpm boundary\n",
    "    \n",
    "    @return: list of bpm boundaries for range for valid songs\n",
    "    '''\n",
    "    \n",
    "    return [bpm-brange,bpm+brange]\n",
    "\n",
    "def song_id_search(id_):\n",
    "    '''\n",
    "    a function to search a song by its id\n",
    "    \n",
    "    @param id_: id to search the dataframe by\n",
    "    \n",
    "    @return: dataframe with id\n",
    "    '''\n",
    "    \n",
    "    return df[df['track_id']==id_]\n",
    "\n",
    "def genre_search(set_):\n",
    "    \n",
    "    '''\n",
    "    a function that filters the dataframe by genre(s)\n",
    "    \n",
    "    @param _set: a string or list of strings used to filter the dataframe\n",
    "    \n",
    "    @return: dataframe of songs with genre in provided set\n",
    "    '''\n",
    "    \n",
    "    set_ = set(set_)\n",
    "    return df[df['track_genre'] & set_]\n"
   ]
  },
  {
   "cell_type": "code",
   "execution_count": 11,
   "id": "cad79209",
   "metadata": {},
   "outputs": [
    {
     "data": {
      "text/html": [
       "<div>\n",
       "<style scoped>\n",
       "    .dataframe tbody tr th:only-of-type {\n",
       "        vertical-align: middle;\n",
       "    }\n",
       "\n",
       "    .dataframe tbody tr th {\n",
       "        vertical-align: top;\n",
       "    }\n",
       "\n",
       "    .dataframe thead th {\n",
       "        text-align: right;\n",
       "    }\n",
       "</style>\n",
       "<table border=\"1\" class=\"dataframe\">\n",
       "  <thead>\n",
       "    <tr style=\"text-align: right;\">\n",
       "      <th></th>\n",
       "      <th>Unnamed: 0</th>\n",
       "      <th>track_id</th>\n",
       "      <th>artists</th>\n",
       "      <th>album_name</th>\n",
       "      <th>track_name</th>\n",
       "      <th>popularity</th>\n",
       "      <th>duration_ms</th>\n",
       "      <th>explicit</th>\n",
       "      <th>danceability</th>\n",
       "      <th>energy</th>\n",
       "      <th>...</th>\n",
       "      <th>loudness</th>\n",
       "      <th>mode</th>\n",
       "      <th>speechiness</th>\n",
       "      <th>acousticness</th>\n",
       "      <th>instrumentalness</th>\n",
       "      <th>liveness</th>\n",
       "      <th>valence</th>\n",
       "      <th>tempo</th>\n",
       "      <th>time_signature</th>\n",
       "      <th>track_genre</th>\n",
       "    </tr>\n",
       "  </thead>\n",
       "  <tbody>\n",
       "    <tr>\n",
       "      <th>13303</th>\n",
       "      <td>13303</td>\n",
       "      <td>4vP5AQEH20l7zXfkdMCtzX</td>\n",
       "      <td>Barbara Tucker;Obskür</td>\n",
       "      <td>Beautiful People (Obskür Remix)</td>\n",
       "      <td>Beautiful People - Obskür Remix</td>\n",
       "      <td>48</td>\n",
       "      <td>333771</td>\n",
       "      <td>False</td>\n",
       "      <td>0.832</td>\n",
       "      <td>0.677</td>\n",
       "      <td>...</td>\n",
       "      <td>-8.78</td>\n",
       "      <td>0</td>\n",
       "      <td>0.105</td>\n",
       "      <td>0.00338</td>\n",
       "      <td>0.0153</td>\n",
       "      <td>0.0494</td>\n",
       "      <td>0.384</td>\n",
       "      <td>128.017</td>\n",
       "      <td>4</td>\n",
       "      <td>chicago-house</td>\n",
       "    </tr>\n",
       "  </tbody>\n",
       "</table>\n",
       "<p>1 rows × 21 columns</p>\n",
       "</div>"
      ],
      "text/plain": [
       "       Unnamed: 0                track_id                artists  \\\n",
       "13303       13303  4vP5AQEH20l7zXfkdMCtzX  Barbara Tucker;Obskür   \n",
       "\n",
       "                            album_name                       track_name  \\\n",
       "13303  Beautiful People (Obskür Remix)  Beautiful People - Obskür Remix   \n",
       "\n",
       "       popularity  duration_ms  explicit  danceability  energy  ...  loudness  \\\n",
       "13303          48       333771     False         0.832   0.677  ...     -8.78   \n",
       "\n",
       "       mode  speechiness  acousticness  instrumentalness  liveness  valence  \\\n",
       "13303     0        0.105       0.00338            0.0153    0.0494    0.384   \n",
       "\n",
       "         tempo  time_signature    track_genre  \n",
       "13303  128.017               4  chicago-house  \n",
       "\n",
       "[1 rows x 21 columns]"
      ]
     },
     "execution_count": 11,
     "metadata": {},
     "output_type": "execute_result"
    }
   ],
   "source": [
    "song_id_search('4vP5AQEH20l7zXfkdMCtzX')"
   ]
  },
  {
   "cell_type": "code",
   "execution_count": 7,
   "id": "7f73d79e",
   "metadata": {
    "scrolled": false
   },
   "outputs": [
    {
     "data": {
      "text/html": [
       "<div>\n",
       "<style scoped>\n",
       "    .dataframe tbody tr th:only-of-type {\n",
       "        vertical-align: middle;\n",
       "    }\n",
       "\n",
       "    .dataframe tbody tr th {\n",
       "        vertical-align: top;\n",
       "    }\n",
       "\n",
       "    .dataframe thead th {\n",
       "        text-align: right;\n",
       "    }\n",
       "</style>\n",
       "<table border=\"1\" class=\"dataframe\">\n",
       "  <thead>\n",
       "    <tr style=\"text-align: right;\">\n",
       "      <th></th>\n",
       "      <th>Unnamed: 0</th>\n",
       "      <th>track_id</th>\n",
       "      <th>artists</th>\n",
       "      <th>album_name</th>\n",
       "      <th>track_name</th>\n",
       "      <th>popularity</th>\n",
       "      <th>duration_ms</th>\n",
       "      <th>explicit</th>\n",
       "      <th>danceability</th>\n",
       "      <th>energy</th>\n",
       "      <th>...</th>\n",
       "      <th>loudness</th>\n",
       "      <th>mode</th>\n",
       "      <th>speechiness</th>\n",
       "      <th>acousticness</th>\n",
       "      <th>instrumentalness</th>\n",
       "      <th>liveness</th>\n",
       "      <th>valence</th>\n",
       "      <th>tempo</th>\n",
       "      <th>time_signature</th>\n",
       "      <th>track_genre</th>\n",
       "    </tr>\n",
       "  </thead>\n",
       "  <tbody>\n",
       "    <tr>\n",
       "      <th>30403</th>\n",
       "      <td>30403</td>\n",
       "      <td>2FqkTu4FhwDWn9hzEaWWCE</td>\n",
       "      <td>The Chainsmokers</td>\n",
       "      <td>So Far So Good</td>\n",
       "      <td>I Love U</td>\n",
       "      <td>69</td>\n",
       "      <td>185522</td>\n",
       "      <td>False</td>\n",
       "      <td>0.651</td>\n",
       "      <td>0.719</td>\n",
       "      <td>...</td>\n",
       "      <td>-5.804</td>\n",
       "      <td>1</td>\n",
       "      <td>0.0318</td>\n",
       "      <td>0.143</td>\n",
       "      <td>0.000036</td>\n",
       "      <td>0.0948</td>\n",
       "      <td>0.81</td>\n",
       "      <td>103.981</td>\n",
       "      <td>4</td>\n",
       "      <td>edm</td>\n",
       "    </tr>\n",
       "    <tr>\n",
       "      <th>31455</th>\n",
       "      <td>31455</td>\n",
       "      <td>2FqkTu4FhwDWn9hzEaWWCE</td>\n",
       "      <td>The Chainsmokers</td>\n",
       "      <td>So Far So Good</td>\n",
       "      <td>I Love U</td>\n",
       "      <td>69</td>\n",
       "      <td>185522</td>\n",
       "      <td>False</td>\n",
       "      <td>0.651</td>\n",
       "      <td>0.719</td>\n",
       "      <td>...</td>\n",
       "      <td>-5.804</td>\n",
       "      <td>1</td>\n",
       "      <td>0.0318</td>\n",
       "      <td>0.143</td>\n",
       "      <td>0.000036</td>\n",
       "      <td>0.0948</td>\n",
       "      <td>0.81</td>\n",
       "      <td>103.981</td>\n",
       "      <td>4</td>\n",
       "      <td>electro</td>\n",
       "    </tr>\n",
       "    <tr>\n",
       "      <th>53355</th>\n",
       "      <td>53355</td>\n",
       "      <td>2FqkTu4FhwDWn9hzEaWWCE</td>\n",
       "      <td>The Chainsmokers</td>\n",
       "      <td>So Far So Good</td>\n",
       "      <td>I Love U</td>\n",
       "      <td>69</td>\n",
       "      <td>185522</td>\n",
       "      <td>False</td>\n",
       "      <td>0.651</td>\n",
       "      <td>0.719</td>\n",
       "      <td>...</td>\n",
       "      <td>-5.804</td>\n",
       "      <td>1</td>\n",
       "      <td>0.0318</td>\n",
       "      <td>0.143</td>\n",
       "      <td>0.000036</td>\n",
       "      <td>0.0948</td>\n",
       "      <td>0.81</td>\n",
       "      <td>103.981</td>\n",
       "      <td>4</td>\n",
       "      <td>house</td>\n",
       "    </tr>\n",
       "  </tbody>\n",
       "</table>\n",
       "<p>3 rows × 21 columns</p>\n",
       "</div>"
      ],
      "text/plain": [
       "       Unnamed: 0                track_id           artists      album_name  \\\n",
       "30403       30403  2FqkTu4FhwDWn9hzEaWWCE  The Chainsmokers  So Far So Good   \n",
       "31455       31455  2FqkTu4FhwDWn9hzEaWWCE  The Chainsmokers  So Far So Good   \n",
       "53355       53355  2FqkTu4FhwDWn9hzEaWWCE  The Chainsmokers  So Far So Good   \n",
       "\n",
       "      track_name  popularity  duration_ms  explicit  danceability  energy  \\\n",
       "30403   I Love U          69       185522     False         0.651   0.719   \n",
       "31455   I Love U          69       185522     False         0.651   0.719   \n",
       "53355   I Love U          69       185522     False         0.651   0.719   \n",
       "\n",
       "       ...  loudness  mode  speechiness  acousticness  instrumentalness  \\\n",
       "30403  ...    -5.804     1       0.0318         0.143          0.000036   \n",
       "31455  ...    -5.804     1       0.0318         0.143          0.000036   \n",
       "53355  ...    -5.804     1       0.0318         0.143          0.000036   \n",
       "\n",
       "       liveness  valence    tempo  time_signature  track_genre  \n",
       "30403    0.0948     0.81  103.981               4          edm  \n",
       "31455    0.0948     0.81  103.981               4      electro  \n",
       "53355    0.0948     0.81  103.981               4        house  \n",
       "\n",
       "[3 rows x 21 columns]"
      ]
     },
     "execution_count": 7,
     "metadata": {},
     "output_type": "execute_result"
    }
   ],
   "source": [
    "# The Chainsmokers, So Far So Good\n",
    "\n",
    "# There are a lot of Duplicates\n",
    "test = song_id_search('2FqkTu4FhwDWn9hzEaWWCE')\n",
    "test"
   ]
  },
  {
   "cell_type": "markdown",
   "id": "4181b38f",
   "metadata": {},
   "source": [
    "### First issue: Dupliates\n",
    "\n",
    "Now that I knew there were duplicates, I had to see how many duplicates there actually were."
   ]
  },
  {
   "cell_type": "code",
   "execution_count": 12,
   "id": "fe26ed89",
   "metadata": {
    "scrolled": true
   },
   "outputs": [
    {
     "data": {
      "text/plain": [
       "24259"
      ]
     },
     "execution_count": 12,
     "metadata": {},
     "output_type": "execute_result"
    }
   ],
   "source": [
    "# checking to see how many duplicates there are\n",
    "len(df)-len(np.unique(df.track_id))"
   ]
  },
  {
   "cell_type": "markdown",
   "id": "a9f0c347",
   "metadata": {},
   "source": [
    "### 25k duplicates?!?!! We NEED to drop those!\n",
    "\n",
    "Because there were songs that had multiple genres, at this point I realized that I had to use a funny pandas hack to get what I needed to get done. I needed to combine the genres.\n",
    "\n",
    "To do the hack, I decided to make it easier by dropping columns I wasn't going to use."
   ]
  },
  {
   "cell_type": "code",
   "execution_count": 14,
   "id": "329ac7c5",
   "metadata": {
    "collapsed": true
   },
   "outputs": [
    {
     "ename": "KeyError",
     "evalue": "\"['Unnamed: 0', 'explicit', 'loudness', 'speechiness', 'acousticness', 'instrumentalness', 'liveness'] not found in axis\"",
     "output_type": "error",
     "traceback": [
      "\u001b[0;31m---------------------------------------------------------------------------\u001b[0m",
      "\u001b[0;31mKeyError\u001b[0m                                  Traceback (most recent call last)",
      "\u001b[0;32m/var/folders/kv/4qctrygx7fd_7gn7jx7c_f280000gn/T/ipykernel_9872/1183004394.py\u001b[0m in \u001b[0;36m<module>\u001b[0;34m\u001b[0m\n\u001b[1;32m      1\u001b[0m \u001b[0;31m# Drop unneed columns\u001b[0m\u001b[0;34m\u001b[0m\u001b[0;34m\u001b[0m\u001b[0m\n\u001b[0;32m----> 2\u001b[0;31m df = df.drop(columns=[\n\u001b[0m\u001b[1;32m      3\u001b[0m     \u001b[0;34m'Unnamed: 0'\u001b[0m\u001b[0;34m,\u001b[0m\u001b[0;34m\u001b[0m\u001b[0;34m\u001b[0m\u001b[0m\n\u001b[1;32m      4\u001b[0m     \u001b[0;34m'explicit'\u001b[0m\u001b[0;34m,\u001b[0m\u001b[0;34m\u001b[0m\u001b[0;34m\u001b[0m\u001b[0m\n\u001b[1;32m      5\u001b[0m     \u001b[0;34m'loudness'\u001b[0m\u001b[0;34m,\u001b[0m\u001b[0;34m\u001b[0m\u001b[0;34m\u001b[0m\u001b[0m\n",
      "\u001b[0;32m~/opt/anaconda3/lib/python3.9/site-packages/pandas/util/_decorators.py\u001b[0m in \u001b[0;36mwrapper\u001b[0;34m(*args, **kwargs)\u001b[0m\n\u001b[1;32m    309\u001b[0m                     \u001b[0mstacklevel\u001b[0m\u001b[0;34m=\u001b[0m\u001b[0mstacklevel\u001b[0m\u001b[0;34m,\u001b[0m\u001b[0;34m\u001b[0m\u001b[0;34m\u001b[0m\u001b[0m\n\u001b[1;32m    310\u001b[0m                 )\n\u001b[0;32m--> 311\u001b[0;31m             \u001b[0;32mreturn\u001b[0m \u001b[0mfunc\u001b[0m\u001b[0;34m(\u001b[0m\u001b[0;34m*\u001b[0m\u001b[0margs\u001b[0m\u001b[0;34m,\u001b[0m \u001b[0;34m**\u001b[0m\u001b[0mkwargs\u001b[0m\u001b[0;34m)\u001b[0m\u001b[0;34m\u001b[0m\u001b[0;34m\u001b[0m\u001b[0m\n\u001b[0m\u001b[1;32m    312\u001b[0m \u001b[0;34m\u001b[0m\u001b[0m\n\u001b[1;32m    313\u001b[0m         \u001b[0;32mreturn\u001b[0m \u001b[0mwrapper\u001b[0m\u001b[0;34m\u001b[0m\u001b[0;34m\u001b[0m\u001b[0m\n",
      "\u001b[0;32m~/opt/anaconda3/lib/python3.9/site-packages/pandas/core/frame.py\u001b[0m in \u001b[0;36mdrop\u001b[0;34m(self, labels, axis, index, columns, level, inplace, errors)\u001b[0m\n\u001b[1;32m   4955\u001b[0m                 \u001b[0mweight\u001b[0m  \u001b[0;36m1.0\u001b[0m     \u001b[0;36m0.8\u001b[0m\u001b[0;34m\u001b[0m\u001b[0;34m\u001b[0m\u001b[0m\n\u001b[1;32m   4956\u001b[0m         \"\"\"\n\u001b[0;32m-> 4957\u001b[0;31m         return super().drop(\n\u001b[0m\u001b[1;32m   4958\u001b[0m             \u001b[0mlabels\u001b[0m\u001b[0;34m=\u001b[0m\u001b[0mlabels\u001b[0m\u001b[0;34m,\u001b[0m\u001b[0;34m\u001b[0m\u001b[0;34m\u001b[0m\u001b[0m\n\u001b[1;32m   4959\u001b[0m             \u001b[0maxis\u001b[0m\u001b[0;34m=\u001b[0m\u001b[0maxis\u001b[0m\u001b[0;34m,\u001b[0m\u001b[0;34m\u001b[0m\u001b[0;34m\u001b[0m\u001b[0m\n",
      "\u001b[0;32m~/opt/anaconda3/lib/python3.9/site-packages/pandas/core/generic.py\u001b[0m in \u001b[0;36mdrop\u001b[0;34m(self, labels, axis, index, columns, level, inplace, errors)\u001b[0m\n\u001b[1;32m   4265\u001b[0m         \u001b[0;32mfor\u001b[0m \u001b[0maxis\u001b[0m\u001b[0;34m,\u001b[0m \u001b[0mlabels\u001b[0m \u001b[0;32min\u001b[0m \u001b[0maxes\u001b[0m\u001b[0;34m.\u001b[0m\u001b[0mitems\u001b[0m\u001b[0;34m(\u001b[0m\u001b[0;34m)\u001b[0m\u001b[0;34m:\u001b[0m\u001b[0;34m\u001b[0m\u001b[0;34m\u001b[0m\u001b[0m\n\u001b[1;32m   4266\u001b[0m             \u001b[0;32mif\u001b[0m \u001b[0mlabels\u001b[0m \u001b[0;32mis\u001b[0m \u001b[0;32mnot\u001b[0m \u001b[0;32mNone\u001b[0m\u001b[0;34m:\u001b[0m\u001b[0;34m\u001b[0m\u001b[0;34m\u001b[0m\u001b[0m\n\u001b[0;32m-> 4267\u001b[0;31m                 \u001b[0mobj\u001b[0m \u001b[0;34m=\u001b[0m \u001b[0mobj\u001b[0m\u001b[0;34m.\u001b[0m\u001b[0m_drop_axis\u001b[0m\u001b[0;34m(\u001b[0m\u001b[0mlabels\u001b[0m\u001b[0;34m,\u001b[0m \u001b[0maxis\u001b[0m\u001b[0;34m,\u001b[0m \u001b[0mlevel\u001b[0m\u001b[0;34m=\u001b[0m\u001b[0mlevel\u001b[0m\u001b[0;34m,\u001b[0m \u001b[0merrors\u001b[0m\u001b[0;34m=\u001b[0m\u001b[0merrors\u001b[0m\u001b[0;34m)\u001b[0m\u001b[0;34m\u001b[0m\u001b[0;34m\u001b[0m\u001b[0m\n\u001b[0m\u001b[1;32m   4268\u001b[0m \u001b[0;34m\u001b[0m\u001b[0m\n\u001b[1;32m   4269\u001b[0m         \u001b[0;32mif\u001b[0m \u001b[0minplace\u001b[0m\u001b[0;34m:\u001b[0m\u001b[0;34m\u001b[0m\u001b[0;34m\u001b[0m\u001b[0m\n",
      "\u001b[0;32m~/opt/anaconda3/lib/python3.9/site-packages/pandas/core/generic.py\u001b[0m in \u001b[0;36m_drop_axis\u001b[0;34m(self, labels, axis, level, errors, consolidate, only_slice)\u001b[0m\n\u001b[1;32m   4309\u001b[0m                 \u001b[0mnew_axis\u001b[0m \u001b[0;34m=\u001b[0m \u001b[0maxis\u001b[0m\u001b[0;34m.\u001b[0m\u001b[0mdrop\u001b[0m\u001b[0;34m(\u001b[0m\u001b[0mlabels\u001b[0m\u001b[0;34m,\u001b[0m \u001b[0mlevel\u001b[0m\u001b[0;34m=\u001b[0m\u001b[0mlevel\u001b[0m\u001b[0;34m,\u001b[0m \u001b[0merrors\u001b[0m\u001b[0;34m=\u001b[0m\u001b[0merrors\u001b[0m\u001b[0;34m)\u001b[0m\u001b[0;34m\u001b[0m\u001b[0;34m\u001b[0m\u001b[0m\n\u001b[1;32m   4310\u001b[0m             \u001b[0;32melse\u001b[0m\u001b[0;34m:\u001b[0m\u001b[0;34m\u001b[0m\u001b[0;34m\u001b[0m\u001b[0m\n\u001b[0;32m-> 4311\u001b[0;31m                 \u001b[0mnew_axis\u001b[0m \u001b[0;34m=\u001b[0m \u001b[0maxis\u001b[0m\u001b[0;34m.\u001b[0m\u001b[0mdrop\u001b[0m\u001b[0;34m(\u001b[0m\u001b[0mlabels\u001b[0m\u001b[0;34m,\u001b[0m \u001b[0merrors\u001b[0m\u001b[0;34m=\u001b[0m\u001b[0merrors\u001b[0m\u001b[0;34m)\u001b[0m\u001b[0;34m\u001b[0m\u001b[0;34m\u001b[0m\u001b[0m\n\u001b[0m\u001b[1;32m   4312\u001b[0m             \u001b[0mindexer\u001b[0m \u001b[0;34m=\u001b[0m \u001b[0maxis\u001b[0m\u001b[0;34m.\u001b[0m\u001b[0mget_indexer\u001b[0m\u001b[0;34m(\u001b[0m\u001b[0mnew_axis\u001b[0m\u001b[0;34m)\u001b[0m\u001b[0;34m\u001b[0m\u001b[0;34m\u001b[0m\u001b[0m\n\u001b[1;32m   4313\u001b[0m \u001b[0;34m\u001b[0m\u001b[0m\n",
      "\u001b[0;32m~/opt/anaconda3/lib/python3.9/site-packages/pandas/core/indexes/base.py\u001b[0m in \u001b[0;36mdrop\u001b[0;34m(self, labels, errors)\u001b[0m\n\u001b[1;32m   6659\u001b[0m         \u001b[0;32mif\u001b[0m \u001b[0mmask\u001b[0m\u001b[0;34m.\u001b[0m\u001b[0many\u001b[0m\u001b[0;34m(\u001b[0m\u001b[0;34m)\u001b[0m\u001b[0;34m:\u001b[0m\u001b[0;34m\u001b[0m\u001b[0;34m\u001b[0m\u001b[0m\n\u001b[1;32m   6660\u001b[0m             \u001b[0;32mif\u001b[0m \u001b[0merrors\u001b[0m \u001b[0;34m!=\u001b[0m \u001b[0;34m\"ignore\"\u001b[0m\u001b[0;34m:\u001b[0m\u001b[0;34m\u001b[0m\u001b[0;34m\u001b[0m\u001b[0m\n\u001b[0;32m-> 6661\u001b[0;31m                 \u001b[0;32mraise\u001b[0m \u001b[0mKeyError\u001b[0m\u001b[0;34m(\u001b[0m\u001b[0;34mf\"{list(labels[mask])} not found in axis\"\u001b[0m\u001b[0;34m)\u001b[0m\u001b[0;34m\u001b[0m\u001b[0;34m\u001b[0m\u001b[0m\n\u001b[0m\u001b[1;32m   6662\u001b[0m             \u001b[0mindexer\u001b[0m \u001b[0;34m=\u001b[0m \u001b[0mindexer\u001b[0m\u001b[0;34m[\u001b[0m\u001b[0;34m~\u001b[0m\u001b[0mmask\u001b[0m\u001b[0;34m]\u001b[0m\u001b[0;34m\u001b[0m\u001b[0;34m\u001b[0m\u001b[0m\n\u001b[1;32m   6663\u001b[0m         \u001b[0;32mreturn\u001b[0m \u001b[0mself\u001b[0m\u001b[0;34m.\u001b[0m\u001b[0mdelete\u001b[0m\u001b[0;34m(\u001b[0m\u001b[0mindexer\u001b[0m\u001b[0;34m)\u001b[0m\u001b[0;34m\u001b[0m\u001b[0;34m\u001b[0m\u001b[0m\n",
      "\u001b[0;31mKeyError\u001b[0m: \"['Unnamed: 0', 'explicit', 'loudness', 'speechiness', 'acousticness', 'instrumentalness', 'liveness'] not found in axis\""
     ]
    }
   ],
   "source": [
    "# Drop unneed columns\n",
    "df = df.drop(columns=[\n",
    "    'Unnamed: 0', \n",
    "    'explicit',\n",
    "    'loudness',\n",
    "    'speechiness',\n",
    "    'acousticness',\n",
    "    'instrumentalness',\n",
    "    'liveness']\n",
    "            )\n"
   ]
  },
  {
   "cell_type": "markdown",
   "id": "61d48f70",
   "metadata": {},
   "source": [
    "### Next Step: Creating a list of columns\n",
    "\n",
    "After dropping these columns, I created a list of the remaining columns, and removed the one I was going to combine, `track_genre`"
   ]
  },
  {
   "cell_type": "code",
   "execution_count": 15,
   "id": "466ca515",
   "metadata": {
    "scrolled": true
   },
   "outputs": [
    {
     "name": "stdout",
     "output_type": "stream",
     "text": [
      "['track_id', 'artists', 'album_name', 'track_name', 'popularity', 'duration_ms', 'danceability', 'energy', 'key', 'mode', 'valence', 'tempo', 'time_signature']\n"
     ]
    }
   ],
   "source": [
    "cols = list(df.columns)\n",
    "cols.remove('track_genre')\n",
    "print(cols)"
   ]
  },
  {
   "cell_type": "markdown",
   "id": "275e9c56",
   "metadata": {},
   "source": [
    "### Final Step: Using apply to combine the `track_genre`\n",
    "\n",
    "Finally, I used a set to combine all of the genres into one column."
   ]
  },
  {
   "cell_type": "code",
   "execution_count": 16,
   "id": "5a3e3676",
   "metadata": {
    "scrolled": true
   },
   "outputs": [],
   "source": [
    "df = df.groupby(cols)['track_genre'].apply(set).reset_index()"
   ]
  },
  {
   "cell_type": "code",
   "execution_count": 17,
   "id": "163efe0e",
   "metadata": {
    "scrolled": true
   },
   "outputs": [
    {
     "data": {
      "text/html": [
       "<div>\n",
       "<style scoped>\n",
       "    .dataframe tbody tr th:only-of-type {\n",
       "        vertical-align: middle;\n",
       "    }\n",
       "\n",
       "    .dataframe tbody tr th {\n",
       "        vertical-align: top;\n",
       "    }\n",
       "\n",
       "    .dataframe thead th {\n",
       "        text-align: right;\n",
       "    }\n",
       "</style>\n",
       "<table border=\"1\" class=\"dataframe\">\n",
       "  <thead>\n",
       "    <tr style=\"text-align: right;\">\n",
       "      <th></th>\n",
       "      <th>track_id</th>\n",
       "      <th>artists</th>\n",
       "      <th>album_name</th>\n",
       "      <th>track_name</th>\n",
       "      <th>popularity</th>\n",
       "      <th>duration_ms</th>\n",
       "      <th>danceability</th>\n",
       "      <th>energy</th>\n",
       "      <th>key</th>\n",
       "      <th>mode</th>\n",
       "      <th>valence</th>\n",
       "      <th>tempo</th>\n",
       "      <th>time_signature</th>\n",
       "      <th>track_genre</th>\n",
       "    </tr>\n",
       "  </thead>\n",
       "  <tbody>\n",
       "    <tr>\n",
       "      <th>26106</th>\n",
       "      <td>2FqkTu4FhwDWn9hzEaWWCE</td>\n",
       "      <td>The Chainsmokers</td>\n",
       "      <td>So Far So Good</td>\n",
       "      <td>I Love U</td>\n",
       "      <td>69</td>\n",
       "      <td>185522</td>\n",
       "      <td>0.651</td>\n",
       "      <td>0.719</td>\n",
       "      <td>8</td>\n",
       "      <td>1</td>\n",
       "      <td>0.81</td>\n",
       "      <td>103.981</td>\n",
       "      <td>4</td>\n",
       "      <td>{electro, edm, house}</td>\n",
       "    </tr>\n",
       "  </tbody>\n",
       "</table>\n",
       "</div>"
      ],
      "text/plain": [
       "                     track_id           artists      album_name track_name  \\\n",
       "26106  2FqkTu4FhwDWn9hzEaWWCE  The Chainsmokers  So Far So Good   I Love U   \n",
       "\n",
       "       popularity  duration_ms  danceability  energy  key  mode  valence  \\\n",
       "26106          69       185522         0.651   0.719    8     1     0.81   \n",
       "\n",
       "         tempo  time_signature            track_genre  \n",
       "26106  103.981               4  {electro, edm, house}  "
      ]
     },
     "execution_count": 17,
     "metadata": {},
     "output_type": "execute_result"
    }
   ],
   "source": [
    "test = song_id_search('2FqkTu4FhwDWn9hzEaWWCE')\n",
    "test"
   ]
  },
  {
   "cell_type": "markdown",
   "id": "4a271cb7",
   "metadata": {},
   "source": [
    "### Checking Duplicates: Still?!?\n",
    "\n",
    "There were still duplicates, so I was kinda frustrated."
   ]
  },
  {
   "cell_type": "code",
   "execution_count": 19,
   "id": "76521372",
   "metadata": {
    "scrolled": true
   },
   "outputs": [
    {
     "data": {
      "text/plain": [
       "720"
      ]
     },
     "execution_count": 19,
     "metadata": {},
     "output_type": "execute_result"
    }
   ],
   "source": [
    "# Lol, why are there still duplicates\n",
    "len(df)-len(np.unique(df.track_id))"
   ]
  },
  {
   "cell_type": "markdown",
   "id": "1d3a6ef0",
   "metadata": {},
   "source": [
    "I decided I needed to make a list of all of the duplicates so I could see what was weird about them."
   ]
  },
  {
   "cell_type": "code",
   "execution_count": 20,
   "id": "0cd20f12",
   "metadata": {},
   "outputs": [],
   "source": [
    "# list of unique ids\n",
    "unique = np.unique(df.track_id)\n",
    "\n",
    "# all ids\n",
    "ids = df.track_id"
   ]
  },
  {
   "cell_type": "code",
   "execution_count": 21,
   "id": "c10503e7",
   "metadata": {
    "scrolled": true
   },
   "outputs": [
    {
     "data": {
      "text/plain": [
       "720"
      ]
     },
     "execution_count": 21,
     "metadata": {},
     "output_type": "execute_result"
    }
   ],
   "source": [
    "# duplicates left\n",
    "len(ids) - len(unique)"
   ]
  },
  {
   "cell_type": "code",
   "execution_count": 22,
   "id": "b631854d",
   "metadata": {
    "scrolled": false
   },
   "outputs": [],
   "source": [
    "id_count = dict(Counter(ids))"
   ]
  },
  {
   "cell_type": "code",
   "execution_count": 23,
   "id": "8be04593",
   "metadata": {},
   "outputs": [],
   "source": [
    "dup_list = [key for key,val in id_count.items() if val > 1]"
   ]
  },
  {
   "cell_type": "code",
   "execution_count": 24,
   "id": "5cdcfeee",
   "metadata": {},
   "outputs": [
    {
     "data": {
      "text/plain": [
       "720"
      ]
     },
     "execution_count": 24,
     "metadata": {},
     "output_type": "execute_result"
    }
   ],
   "source": [
    "# list of duplicates captured\n",
    "len(dup_list)"
   ]
  },
  {
   "cell_type": "code",
   "execution_count": 26,
   "id": "f3dc8c52",
   "metadata": {},
   "outputs": [
    {
     "data": {
      "text/plain": [
       "['00YwP3wJWiG8IxAA7OS9lo',\n",
       " '014SIjoLDG1Ku19c5FlDYh',\n",
       " '02jLfqc9gMo8PkHEGHY3OT',\n",
       " '03mHinvLdrdSTd7w4GPXwH']"
      ]
     },
     "execution_count": 26,
     "metadata": {},
     "output_type": "execute_result"
    }
   ],
   "source": [
    "# list of duplicates\n",
    "dup_list[:4]"
   ]
  },
  {
   "cell_type": "code",
   "execution_count": 27,
   "id": "a5e6f47c",
   "metadata": {},
   "outputs": [
    {
     "data": {
      "text/html": [
       "<div>\n",
       "<style scoped>\n",
       "    .dataframe tbody tr th:only-of-type {\n",
       "        vertical-align: middle;\n",
       "    }\n",
       "\n",
       "    .dataframe tbody tr th {\n",
       "        vertical-align: top;\n",
       "    }\n",
       "\n",
       "    .dataframe thead th {\n",
       "        text-align: right;\n",
       "    }\n",
       "</style>\n",
       "<table border=\"1\" class=\"dataframe\">\n",
       "  <thead>\n",
       "    <tr style=\"text-align: right;\">\n",
       "      <th></th>\n",
       "      <th>track_id</th>\n",
       "      <th>artists</th>\n",
       "      <th>album_name</th>\n",
       "      <th>track_name</th>\n",
       "      <th>popularity</th>\n",
       "      <th>duration_ms</th>\n",
       "      <th>danceability</th>\n",
       "      <th>energy</th>\n",
       "      <th>key</th>\n",
       "      <th>mode</th>\n",
       "      <th>valence</th>\n",
       "      <th>tempo</th>\n",
       "      <th>time_signature</th>\n",
       "      <th>track_genre</th>\n",
       "    </tr>\n",
       "  </thead>\n",
       "  <tbody>\n",
       "    <tr>\n",
       "      <th>109</th>\n",
       "      <td>00YwP3wJWiG8IxAA7OS9lo</td>\n",
       "      <td>Anupam Roy</td>\n",
       "      <td>Doorbiney Chokh Rakhbona</td>\n",
       "      <td>Amake Amar Moto Thakte Dao</td>\n",
       "      <td>46</td>\n",
       "      <td>319946</td>\n",
       "      <td>0.566</td>\n",
       "      <td>0.419</td>\n",
       "      <td>7</td>\n",
       "      <td>1</td>\n",
       "      <td>0.186</td>\n",
       "      <td>147.881</td>\n",
       "      <td>4</td>\n",
       "      <td>{songwriter, singer-songwriter}</td>\n",
       "    </tr>\n",
       "    <tr>\n",
       "      <th>110</th>\n",
       "      <td>00YwP3wJWiG8IxAA7OS9lo</td>\n",
       "      <td>Anupam Roy</td>\n",
       "      <td>Doorbiney Chokh Rakhbona</td>\n",
       "      <td>Amake Amar Moto Thakte Dao</td>\n",
       "      <td>47</td>\n",
       "      <td>319946</td>\n",
       "      <td>0.566</td>\n",
       "      <td>0.419</td>\n",
       "      <td>7</td>\n",
       "      <td>1</td>\n",
       "      <td>0.186</td>\n",
       "      <td>147.881</td>\n",
       "      <td>4</td>\n",
       "      <td>{indie-pop, k-pop, indian, indie}</td>\n",
       "    </tr>\n",
       "  </tbody>\n",
       "</table>\n",
       "</div>"
      ],
      "text/plain": [
       "                   track_id     artists                album_name  \\\n",
       "109  00YwP3wJWiG8IxAA7OS9lo  Anupam Roy  Doorbiney Chokh Rakhbona   \n",
       "110  00YwP3wJWiG8IxAA7OS9lo  Anupam Roy  Doorbiney Chokh Rakhbona   \n",
       "\n",
       "                     track_name  popularity  duration_ms  danceability  \\\n",
       "109  Amake Amar Moto Thakte Dao          46       319946         0.566   \n",
       "110  Amake Amar Moto Thakte Dao          47       319946         0.566   \n",
       "\n",
       "     energy  key  mode  valence    tempo  time_signature  \\\n",
       "109   0.419    7     1    0.186  147.881               4   \n",
       "110   0.419    7     1    0.186  147.881               4   \n",
       "\n",
       "                           track_genre  \n",
       "109    {songwriter, singer-songwriter}  \n",
       "110  {indie-pop, k-pop, indian, indie}  "
      ]
     },
     "execution_count": 27,
     "metadata": {},
     "output_type": "execute_result"
    }
   ],
   "source": [
    "# slight difference in popularity, hm\n",
    "song_id_search('00YwP3wJWiG8IxAA7OS9lo')"
   ]
  },
  {
   "cell_type": "code",
   "execution_count": 28,
   "id": "ba62921c",
   "metadata": {
    "scrolled": true
   },
   "outputs": [
    {
     "data": {
      "text/html": [
       "<div>\n",
       "<style scoped>\n",
       "    .dataframe tbody tr th:only-of-type {\n",
       "        vertical-align: middle;\n",
       "    }\n",
       "\n",
       "    .dataframe tbody tr th {\n",
       "        vertical-align: top;\n",
       "    }\n",
       "\n",
       "    .dataframe thead th {\n",
       "        text-align: right;\n",
       "    }\n",
       "</style>\n",
       "<table border=\"1\" class=\"dataframe\">\n",
       "  <thead>\n",
       "    <tr style=\"text-align: right;\">\n",
       "      <th></th>\n",
       "      <th>track_id</th>\n",
       "      <th>artists</th>\n",
       "      <th>album_name</th>\n",
       "      <th>track_name</th>\n",
       "      <th>popularity</th>\n",
       "      <th>duration_ms</th>\n",
       "      <th>danceability</th>\n",
       "      <th>energy</th>\n",
       "      <th>key</th>\n",
       "      <th>mode</th>\n",
       "      <th>valence</th>\n",
       "      <th>tempo</th>\n",
       "      <th>time_signature</th>\n",
       "      <th>track_genre</th>\n",
       "    </tr>\n",
       "  </thead>\n",
       "  <tbody>\n",
       "    <tr>\n",
       "      <th>189</th>\n",
       "      <td>014SIjoLDG1Ku19c5FlDYh</td>\n",
       "      <td>Creedence Clearwater Revival</td>\n",
       "      <td>Pumpkin Patch Hits</td>\n",
       "      <td>I Put A Spell On You</td>\n",
       "      <td>0</td>\n",
       "      <td>271786</td>\n",
       "      <td>0.393</td>\n",
       "      <td>0.732</td>\n",
       "      <td>4</td>\n",
       "      <td>0</td>\n",
       "      <td>0.621</td>\n",
       "      <td>100.41</td>\n",
       "      <td>4</td>\n",
       "      <td>{country}</td>\n",
       "    </tr>\n",
       "    <tr>\n",
       "      <th>190</th>\n",
       "      <td>014SIjoLDG1Ku19c5FlDYh</td>\n",
       "      <td>Creedence Clearwater Revival</td>\n",
       "      <td>Pumpkin Patch Hits</td>\n",
       "      <td>I Put A Spell On You</td>\n",
       "      <td>3</td>\n",
       "      <td>271786</td>\n",
       "      <td>0.393</td>\n",
       "      <td>0.732</td>\n",
       "      <td>4</td>\n",
       "      <td>0</td>\n",
       "      <td>0.621</td>\n",
       "      <td>100.41</td>\n",
       "      <td>4</td>\n",
       "      <td>{rock}</td>\n",
       "    </tr>\n",
       "  </tbody>\n",
       "</table>\n",
       "</div>"
      ],
      "text/plain": [
       "                   track_id                       artists          album_name  \\\n",
       "189  014SIjoLDG1Ku19c5FlDYh  Creedence Clearwater Revival  Pumpkin Patch Hits   \n",
       "190  014SIjoLDG1Ku19c5FlDYh  Creedence Clearwater Revival  Pumpkin Patch Hits   \n",
       "\n",
       "               track_name  popularity  duration_ms  danceability  energy  key  \\\n",
       "189  I Put A Spell On You           0       271786         0.393   0.732    4   \n",
       "190  I Put A Spell On You           3       271786         0.393   0.732    4   \n",
       "\n",
       "     mode  valence   tempo  time_signature track_genre  \n",
       "189     0    0.621  100.41               4   {country}  \n",
       "190     0    0.621  100.41               4      {rock}  "
      ]
     },
     "execution_count": 28,
     "metadata": {},
     "output_type": "execute_result"
    }
   ],
   "source": [
    "# another difference in popularity\n",
    "song_id_search('014SIjoLDG1Ku19c5FlDYh')"
   ]
  },
  {
   "cell_type": "code",
   "execution_count": 29,
   "id": "c929b755",
   "metadata": {},
   "outputs": [
    {
     "data": {
      "text/html": [
       "<div>\n",
       "<style scoped>\n",
       "    .dataframe tbody tr th:only-of-type {\n",
       "        vertical-align: middle;\n",
       "    }\n",
       "\n",
       "    .dataframe tbody tr th {\n",
       "        vertical-align: top;\n",
       "    }\n",
       "\n",
       "    .dataframe thead th {\n",
       "        text-align: right;\n",
       "    }\n",
       "</style>\n",
       "<table border=\"1\" class=\"dataframe\">\n",
       "  <thead>\n",
       "    <tr style=\"text-align: right;\">\n",
       "      <th></th>\n",
       "      <th>track_id</th>\n",
       "      <th>artists</th>\n",
       "      <th>album_name</th>\n",
       "      <th>track_name</th>\n",
       "      <th>popularity</th>\n",
       "      <th>duration_ms</th>\n",
       "      <th>danceability</th>\n",
       "      <th>energy</th>\n",
       "      <th>key</th>\n",
       "      <th>mode</th>\n",
       "      <th>valence</th>\n",
       "      <th>tempo</th>\n",
       "      <th>time_signature</th>\n",
       "      <th>track_genre</th>\n",
       "    </tr>\n",
       "  </thead>\n",
       "  <tbody>\n",
       "    <tr>\n",
       "      <th>495</th>\n",
       "      <td>02jLfqc9gMo8PkHEGHY3OT</td>\n",
       "      <td>Feid</td>\n",
       "      <td>Si Te La Encuentras Por Ahí</td>\n",
       "      <td>Si Te La Encuentras Por Ahí</td>\n",
       "      <td>82</td>\n",
       "      <td>191573</td>\n",
       "      <td>0.743</td>\n",
       "      <td>0.576</td>\n",
       "      <td>8</td>\n",
       "      <td>0</td>\n",
       "      <td>0.455</td>\n",
       "      <td>171.945</td>\n",
       "      <td>4</td>\n",
       "      <td>{reggaeton, reggae}</td>\n",
       "    </tr>\n",
       "    <tr>\n",
       "      <th>496</th>\n",
       "      <td>02jLfqc9gMo8PkHEGHY3OT</td>\n",
       "      <td>Feid</td>\n",
       "      <td>Si Te La Encuentras Por Ahí</td>\n",
       "      <td>Si Te La Encuentras Por Ahí</td>\n",
       "      <td>83</td>\n",
       "      <td>191573</td>\n",
       "      <td>0.743</td>\n",
       "      <td>0.576</td>\n",
       "      <td>8</td>\n",
       "      <td>0</td>\n",
       "      <td>0.455</td>\n",
       "      <td>171.945</td>\n",
       "      <td>4</td>\n",
       "      <td>{latino}</td>\n",
       "    </tr>\n",
       "  </tbody>\n",
       "</table>\n",
       "</div>"
      ],
      "text/plain": [
       "                   track_id artists                   album_name  \\\n",
       "495  02jLfqc9gMo8PkHEGHY3OT    Feid  Si Te La Encuentras Por Ahí   \n",
       "496  02jLfqc9gMo8PkHEGHY3OT    Feid  Si Te La Encuentras Por Ahí   \n",
       "\n",
       "                      track_name  popularity  duration_ms  danceability  \\\n",
       "495  Si Te La Encuentras Por Ahí          82       191573         0.743   \n",
       "496  Si Te La Encuentras Por Ahí          83       191573         0.743   \n",
       "\n",
       "     energy  key  mode  valence    tempo  time_signature          track_genre  \n",
       "495   0.576    8     0    0.455  171.945               4  {reggaeton, reggae}  \n",
       "496   0.576    8     0    0.455  171.945               4             {latino}  "
      ]
     },
     "execution_count": 29,
     "metadata": {},
     "output_type": "execute_result"
    }
   ],
   "source": [
    "# ANOTHER difference in popularity, weird\n",
    "song_id_search('02jLfqc9gMo8PkHEGHY3OT')"
   ]
  },
  {
   "cell_type": "markdown",
   "id": "d8f2c327",
   "metadata": {},
   "source": [
    "At this point I am thinking of dropping the rows that are duplicates, and removing the one with higher popularity. I don't think it will be the end of the world, but because this data is weird, I don't want to recommend it probably."
   ]
  },
  {
   "cell_type": "code",
   "execution_count": 31,
   "id": "42e64ad2",
   "metadata": {},
   "outputs": [],
   "source": [
    "df = df[~df['track_id'].isin(dup_list)]"
   ]
  },
  {
   "cell_type": "code",
   "execution_count": 32,
   "id": "10615c2f",
   "metadata": {
    "scrolled": true
   },
   "outputs": [
    {
     "data": {
      "text/html": [
       "<div>\n",
       "<style scoped>\n",
       "    .dataframe tbody tr th:only-of-type {\n",
       "        vertical-align: middle;\n",
       "    }\n",
       "\n",
       "    .dataframe tbody tr th {\n",
       "        vertical-align: top;\n",
       "    }\n",
       "\n",
       "    .dataframe thead th {\n",
       "        text-align: right;\n",
       "    }\n",
       "</style>\n",
       "<table border=\"1\" class=\"dataframe\">\n",
       "  <thead>\n",
       "    <tr style=\"text-align: right;\">\n",
       "      <th></th>\n",
       "      <th>track_id</th>\n",
       "      <th>artists</th>\n",
       "      <th>album_name</th>\n",
       "      <th>track_name</th>\n",
       "      <th>popularity</th>\n",
       "      <th>duration_ms</th>\n",
       "      <th>danceability</th>\n",
       "      <th>energy</th>\n",
       "      <th>key</th>\n",
       "      <th>mode</th>\n",
       "      <th>valence</th>\n",
       "      <th>tempo</th>\n",
       "      <th>time_signature</th>\n",
       "      <th>track_genre</th>\n",
       "    </tr>\n",
       "  </thead>\n",
       "  <tbody>\n",
       "  </tbody>\n",
       "</table>\n",
       "</div>"
      ],
      "text/plain": [
       "Empty DataFrame\n",
       "Columns: [track_id, artists, album_name, track_name, popularity, duration_ms, danceability, energy, key, mode, valence, tempo, time_signature, track_genre]\n",
       "Index: []"
      ]
     },
     "execution_count": 32,
     "metadata": {},
     "output_type": "execute_result"
    }
   ],
   "source": [
    "# hell yeah, duplicate values are gone, totally removed for now\n",
    "df[df['track_id']=='0DqLuhTD1xI8mb2gY5YoLM']"
   ]
  },
  {
   "cell_type": "code",
   "execution_count": 33,
   "id": "0a65dda9",
   "metadata": {},
   "outputs": [
    {
     "data": {
      "text/plain": [
       "720"
      ]
     },
     "execution_count": 33,
     "metadata": {},
     "output_type": "execute_result"
    }
   ],
   "source": [
    "len(ids) - len(unique)"
   ]
  },
  {
   "cell_type": "code",
   "execution_count": 34,
   "id": "0e063431",
   "metadata": {},
   "outputs": [],
   "source": [
    "id_count = dict(Counter(ids))"
   ]
  },
  {
   "cell_type": "code",
   "execution_count": 35,
   "id": "1ca1ec7d",
   "metadata": {},
   "outputs": [],
   "source": [
    "dup_list = [key for key,val in id_count.items() if val > 1]"
   ]
  },
  {
   "cell_type": "code",
   "execution_count": 41,
   "id": "072fa937",
   "metadata": {},
   "outputs": [
    {
     "data": {
      "text/plain": [
       "0"
      ]
     },
     "execution_count": 41,
     "metadata": {},
     "output_type": "execute_result"
    }
   ],
   "source": [
    "len(df)-len(np.unique(df.track_id))"
   ]
  },
  {
   "cell_type": "markdown",
   "id": "1dbeef32",
   "metadata": {},
   "source": [
    "## Removed Songs\n",
    "\n",
    "It was only 720 songs, so I just removed them, but in the future I will probably just removed the less popular version of the song.\n",
    "\n",
    "Next up, I write the sudo code for the song object that will be used on the website."
   ]
  },
  {
   "cell_type": "markdown",
   "id": "50b3efb4",
   "metadata": {},
   "source": [
    "### Sudo Code\n",
    "\n",
    "I want to create a song object so that I can pass the data in a box to the visualization in D3. I'm hoping I can project the image and add the spotify link to the visualization.\n",
    "\n",
    "1. Create Song Objects with attributes\n",
    "    - Attributes\n",
    "        - Song ID\n",
    "        - Name\n",
    "        - Artist\n",
    "        - Spotify Link\n",
    "        - spotify genre\n",
    "        - popularity\n",
    "        - key (convert to camelot)\n",
    "        - tempo\n",
    "        - lyrics\n",
    "        - duration\n",
    "        - explicit\n",
    "    - Methods\n",
    "        - Generate Spotify Link\n",
    "        - get last fm track tag\n",
    "        - from Song_ID (class method)\n",
    "        - get lyrics\n",
    "        - get valid tempo range\n",
    "        - get neighbors (using filtering)\n",
    "2. Go through entire track list\n",
    "    - for a song in the song list\n",
    "        - build a list of node list songs that share similar features\n",
    "3. Playlist Object\n",
    "    - Attributes\n",
    "        - Song Objects\n",
    "        - BPM range\n",
    "        - Key Range\n",
    "        - Genre\n",
    "    - Methods\n",
    "        - Create in Spotify(using Spotipy)\n",
    "        - From 2 songs (class method)\n",
    "            - short\n",
    "            - different paths\n",
    "        - Add (add to graph, use graph logic to create new playlist?)\n",
    "4. SongGraph Object\n",
    "   - Attributes\n",
    "       - Last Update\n",
    "   - Methods\n",
    "       - Save to GraphML\n",
    "       - From GraphML\n",
    "       - Visualize\n",
    "       - _add_song\n",
    "       - _remove_song\n",
    "\n",
    "Simple, just referenced when Playlist Object is implemented, contains metadata about last update, etc. It's nice because it will also have ways to save the current graph to graphml, etc.\n",
    " "
   ]
  },
  {
   "cell_type": "code",
   "execution_count": 42,
   "id": "e39a6793",
   "metadata": {},
   "outputs": [],
   "source": [
    "class Song:\n",
    "    def __init__(self, song_id, name, artists, popularity, key, tempo, duration, explicit=None,lyrics=None):\n",
    "        self.song_id = song_id\n",
    "        self.name = name\n",
    "        self.artists = artists\n",
    "        self.popularity = popularity\n",
    "        self.key = key\n",
    "        self.tempo = tempo\n",
    "        self._duration = duration\n",
    "\n",
    "    @classmethod\n",
    "    def from_df_row(cls,df_row):\n",
    "        return Song(df_row.track_id, df_row.track_name, df_row.artists, df_row.popularity, df_row.key, df_row.tempo, df_row.duration_ms)        \n",
    "\n",
    "    @classmethod\n",
    "    def from_spot_id(cls,_id):\n",
    "        pass\n",
    "\n",
    "    @property\n",
    "    def spot_link(self):\n",
    "        return f'https://open.spotify.com/track/{self.song_id}'\n",
    "    \n",
    "    @property\n",
    "    def duration(self):\n",
    "        _sec=int((self._duration/1000)%60)\n",
    "        _min=int((self._duration/(1000*60))%60)\n",
    "        return f'{_min}min {_sec}sec'\n",
    "    \n",
    "    @property\n",
    "    def valid_bpm_range(self):\n",
    "        pass\n",
    "    \n",
    "    \n",
    "    @property\n",
    "    def valid_keys(self):\n",
    "        pass\n",
    "    \n",
    "    @property\n",
    "    def stats(self):\n",
    "        output = f'''Song ID: {self.song_id}\n",
    "Song Name: {self.name}\n",
    "Song Artists: {self.artists}\n",
    "Song Key: {self.key}\n",
    "Song Tempo: {self.tempo}\n",
    "Song Duration {self.duration}'''\n",
    "        print(output)\n",
    "    \n",
    "    def __str__(self):\n",
    "        return f'Song Object: \\'{self.name} by {self.artists}\\''\n",
    "    \n",
    "    def __repr__(self):\n",
    "        return f'ID: {self.song_id} | Name: {self.name} | Song Artists: {self.artists} | Song Key: {self.key} | Song Tempo: {self.tempo} | Song Duration {self.duration}'\n",
    "    \n"
   ]
  },
  {
   "cell_type": "code",
   "execution_count": 45,
   "id": "5fa14cee",
   "metadata": {},
   "outputs": [
    {
     "data": {
      "text/plain": [
       "track_id          0000vdREvCVMxbQTkS888c\n",
       "artists                             Rill\n",
       "album_name                         Lolly\n",
       "track_name                         Lolly\n",
       "popularity                            44\n",
       "duration_ms                       160725\n",
       "danceability                        0.91\n",
       "energy                             0.374\n",
       "key                                    8\n",
       "mode                                   0\n",
       "valence                            0.432\n",
       "tempo                            104.042\n",
       "time_signature                         4\n",
       "track_genre                     {german}\n",
       "Name: 0, dtype: object"
      ]
     },
     "execution_count": 45,
     "metadata": {},
     "output_type": "execute_result"
    }
   ],
   "source": [
    "first = df.iloc[0]\n",
    "first"
   ]
  },
  {
   "cell_type": "code",
   "execution_count": 61,
   "id": "0328757c",
   "metadata": {},
   "outputs": [
    {
     "data": {
      "text/html": [
       "<div>\n",
       "<style scoped>\n",
       "    .dataframe tbody tr th:only-of-type {\n",
       "        vertical-align: middle;\n",
       "    }\n",
       "\n",
       "    .dataframe tbody tr th {\n",
       "        vertical-align: top;\n",
       "    }\n",
       "\n",
       "    .dataframe thead th {\n",
       "        text-align: right;\n",
       "    }\n",
       "</style>\n",
       "<table border=\"1\" class=\"dataframe\">\n",
       "  <thead>\n",
       "    <tr style=\"text-align: right;\">\n",
       "      <th></th>\n",
       "      <th>track_id</th>\n",
       "      <th>artists</th>\n",
       "      <th>album_name</th>\n",
       "      <th>track_name</th>\n",
       "      <th>popularity</th>\n",
       "      <th>duration_ms</th>\n",
       "      <th>danceability</th>\n",
       "      <th>energy</th>\n",
       "      <th>key</th>\n",
       "      <th>mode</th>\n",
       "      <th>valence</th>\n",
       "      <th>tempo</th>\n",
       "      <th>time_signature</th>\n",
       "      <th>track_genre</th>\n",
       "    </tr>\n",
       "  </thead>\n",
       "  <tbody>\n",
       "    <tr>\n",
       "      <th>0</th>\n",
       "      <td>0000vdREvCVMxbQTkS888c</td>\n",
       "      <td>Rill</td>\n",
       "      <td>Lolly</td>\n",
       "      <td>Lolly</td>\n",
       "      <td>44</td>\n",
       "      <td>160725</td>\n",
       "      <td>0.91</td>\n",
       "      <td>0.374</td>\n",
       "      <td>8</td>\n",
       "      <td>0</td>\n",
       "      <td>0.432</td>\n",
       "      <td>104.042</td>\n",
       "      <td>4</td>\n",
       "      <td>{german}</td>\n",
       "    </tr>\n",
       "  </tbody>\n",
       "</table>\n",
       "</div>"
      ],
      "text/plain": [
       "                 track_id artists album_name track_name  popularity  \\\n",
       "0  0000vdREvCVMxbQTkS888c    Rill      Lolly      Lolly          44   \n",
       "\n",
       "   duration_ms  danceability  energy  key  mode  valence    tempo  \\\n",
       "0       160725          0.91   0.374    8     0    0.432  104.042   \n",
       "\n",
       "   time_signature track_genre  \n",
       "0               4    {german}  "
      ]
     },
     "execution_count": 61,
     "metadata": {},
     "output_type": "execute_result"
    }
   ],
   "source": [
    "df[df['track_id']=='0000vdREvCVMxbQTkS888c']"
   ]
  },
  {
   "cell_type": "code",
   "execution_count": 43,
   "id": "2492b12c",
   "metadata": {},
   "outputs": [],
   "source": [
    "# Creating Object\n",
    "\n",
    "first = df.iloc[0]\n",
    "\n",
    "song = Song.from_df_row(first)"
   ]
  },
  {
   "cell_type": "code",
   "execution_count": 62,
   "id": "7ac39b13",
   "metadata": {},
   "outputs": [
    {
     "data": {
      "text/plain": [
       "'2min 40sec'"
      ]
     },
     "execution_count": 62,
     "metadata": {},
     "output_type": "execute_result"
    }
   ],
   "source": [
    "song.duration"
   ]
  },
  {
   "cell_type": "code",
   "execution_count": 63,
   "id": "3371ad12",
   "metadata": {},
   "outputs": [
    {
     "data": {
      "text/plain": [
       "ID: 0000vdREvCVMxbQTkS888c | Name: Lolly | Song Artists: Rill | Song Key: 8 | Song Tempo: 104.042 | Song Duration 2min 40sec"
      ]
     },
     "execution_count": 63,
     "metadata": {},
     "output_type": "execute_result"
    }
   ],
   "source": [
    "song"
   ]
  },
  {
   "cell_type": "markdown",
   "id": "56d89881",
   "metadata": {},
   "source": [
    "## Song Object Todos\n",
    "\n",
    "The next thing I need to do is make a song object from the dataframe and also from the spotify api. I'm going to register my app at some point to do it. Wondering if I made this an actual company what would happen."
   ]
  },
  {
   "cell_type": "markdown",
   "id": "d5b77f34",
   "metadata": {},
   "source": [
    "## Key Matching\n",
    "\n",
    "I needed to translate the keys from key and mode to camelot for easier mixing. I'm going to use a script my friend wrote a year ago to help with that."
   ]
  },
  {
   "cell_type": "code",
   "execution_count": 70,
   "id": "3893ec4a",
   "metadata": {
    "scrolled": true
   },
   "outputs": [
    {
     "data": {
      "text/plain": [
       "['2A', '4A', '7A', '10A', '1A', '1B']"
      ]
     },
     "execution_count": 70,
     "metadata": {},
     "output_type": "execute_result"
    }
   ],
   "source": [
    "key = keys.generate_camelot_key(first['mode'],first['key'])\n",
    "key\n",
    "keys._get_matching_keys(key)"
   ]
  },
  {
   "cell_type": "code",
   "execution_count": 71,
   "id": "ca42e0c5",
   "metadata": {
    "scrolled": true
   },
   "outputs": [
    {
     "data": {
      "text/plain": [
       "'1A'"
      ]
     },
     "execution_count": 71,
     "metadata": {},
     "output_type": "execute_result"
    }
   ],
   "source": [
    "key"
   ]
  },
  {
   "cell_type": "code",
   "execution_count": 72,
   "id": "d62cc9e7",
   "metadata": {},
   "outputs": [],
   "source": [
    "import pandas as pd\n",
    "pd.options.mode.chained_assignment = None  # default='warn'"
   ]
  },
  {
   "cell_type": "code",
   "execution_count": 73,
   "id": "1a9fd40b",
   "metadata": {
    "scrolled": true
   },
   "outputs": [],
   "source": [
    "# gave a warning, disabled warnings so we could get it to work\n",
    "\n",
    "# assigned new values for all of the keys using two columns and function from my friends code\n",
    "df['cam_key'] = [keys.generate_camelot_key(*a) for a in tuple(zip(df.loc[:,'mode'],df.loc[:,'key']))]"
   ]
  },
  {
   "cell_type": "code",
   "execution_count": 80,
   "id": "fd3ebc59",
   "metadata": {},
   "outputs": [],
   "source": [
    "second = df.iloc[1]"
   ]
  },
  {
   "cell_type": "code",
   "execution_count": 81,
   "id": "6750ea5e",
   "metadata": {},
   "outputs": [],
   "source": [
    "key = keys.generate_camelot_key(second['mode'],second['key'])"
   ]
  },
  {
   "cell_type": "code",
   "execution_count": 82,
   "id": "848e6ee4",
   "metadata": {
    "scrolled": true
   },
   "outputs": [
    {
     "data": {
      "text/plain": [
       "['2B', '5B', '7B', '9B', '11B', '8A', '8B']"
      ]
     },
     "execution_count": 82,
     "metadata": {},
     "output_type": "execute_result"
    }
   ],
   "source": [
    "keys._get_matching_keys(key)"
   ]
  },
  {
   "cell_type": "code",
   "execution_count": 84,
   "id": "f34d48e7",
   "metadata": {},
   "outputs": [
    {
     "data": {
      "text/html": [
       "<div>\n",
       "<style scoped>\n",
       "    .dataframe tbody tr th:only-of-type {\n",
       "        vertical-align: middle;\n",
       "    }\n",
       "\n",
       "    .dataframe tbody tr th {\n",
       "        vertical-align: top;\n",
       "    }\n",
       "\n",
       "    .dataframe thead th {\n",
       "        text-align: right;\n",
       "    }\n",
       "</style>\n",
       "<table border=\"1\" class=\"dataframe\">\n",
       "  <thead>\n",
       "    <tr style=\"text-align: right;\">\n",
       "      <th></th>\n",
       "      <th>track_id</th>\n",
       "      <th>artists</th>\n",
       "      <th>album_name</th>\n",
       "      <th>track_name</th>\n",
       "      <th>popularity</th>\n",
       "      <th>duration_ms</th>\n",
       "      <th>danceability</th>\n",
       "      <th>energy</th>\n",
       "      <th>key</th>\n",
       "      <th>mode</th>\n",
       "      <th>valence</th>\n",
       "      <th>tempo</th>\n",
       "      <th>time_signature</th>\n",
       "      <th>track_genre</th>\n",
       "      <th>cam_key</th>\n",
       "    </tr>\n",
       "  </thead>\n",
       "  <tbody>\n",
       "    <tr>\n",
       "      <th>0</th>\n",
       "      <td>0000vdREvCVMxbQTkS888c</td>\n",
       "      <td>Rill</td>\n",
       "      <td>Lolly</td>\n",
       "      <td>Lolly</td>\n",
       "      <td>44</td>\n",
       "      <td>160725</td>\n",
       "      <td>0.910</td>\n",
       "      <td>0.374</td>\n",
       "      <td>8</td>\n",
       "      <td>0</td>\n",
       "      <td>0.432</td>\n",
       "      <td>104.042</td>\n",
       "      <td>4</td>\n",
       "      <td>{german}</td>\n",
       "      <td>1A</td>\n",
       "    </tr>\n",
       "    <tr>\n",
       "      <th>1</th>\n",
       "      <td>000CC8EParg64OmTxVnZ0p</td>\n",
       "      <td>Glee Cast</td>\n",
       "      <td>Glee Love Songs</td>\n",
       "      <td>It's All Coming Back To Me Now (Glee Cast Vers...</td>\n",
       "      <td>47</td>\n",
       "      <td>322933</td>\n",
       "      <td>0.269</td>\n",
       "      <td>0.516</td>\n",
       "      <td>0</td>\n",
       "      <td>1</td>\n",
       "      <td>0.341</td>\n",
       "      <td>178.174</td>\n",
       "      <td>4</td>\n",
       "      <td>{club}</td>\n",
       "      <td>8B</td>\n",
       "    </tr>\n",
       "    <tr>\n",
       "      <th>2</th>\n",
       "      <td>000Iz0K615UepwSJ5z2RE5</td>\n",
       "      <td>Paul Kalkbrenner;Pig&amp;Dan</td>\n",
       "      <td>X</td>\n",
       "      <td>Böxig Leise - Pig &amp; Dan Remix</td>\n",
       "      <td>22</td>\n",
       "      <td>515360</td>\n",
       "      <td>0.686</td>\n",
       "      <td>0.560</td>\n",
       "      <td>5</td>\n",
       "      <td>0</td>\n",
       "      <td>0.108</td>\n",
       "      <td>119.997</td>\n",
       "      <td>4</td>\n",
       "      <td>{minimal-techno}</td>\n",
       "      <td>4A</td>\n",
       "    </tr>\n",
       "    <tr>\n",
       "      <th>3</th>\n",
       "      <td>000RDCYioLteXcutOjeweY</td>\n",
       "      <td>Jordan Sandhu</td>\n",
       "      <td>Teeje Week</td>\n",
       "      <td>Teeje Week</td>\n",
       "      <td>62</td>\n",
       "      <td>190203</td>\n",
       "      <td>0.679</td>\n",
       "      <td>0.770</td>\n",
       "      <td>0</td>\n",
       "      <td>1</td>\n",
       "      <td>0.839</td>\n",
       "      <td>161.721</td>\n",
       "      <td>4</td>\n",
       "      <td>{hip-hop}</td>\n",
       "      <td>8B</td>\n",
       "    </tr>\n",
       "    <tr>\n",
       "      <th>4</th>\n",
       "      <td>000qpdoc97IMTBvF8gwcpy</td>\n",
       "      <td>Paul Kalkbrenner</td>\n",
       "      <td>Zeit</td>\n",
       "      <td>Tief</td>\n",
       "      <td>19</td>\n",
       "      <td>331240</td>\n",
       "      <td>0.519</td>\n",
       "      <td>0.431</td>\n",
       "      <td>6</td>\n",
       "      <td>0</td>\n",
       "      <td>0.234</td>\n",
       "      <td>129.971</td>\n",
       "      <td>4</td>\n",
       "      <td>{minimal-techno}</td>\n",
       "      <td>11A</td>\n",
       "    </tr>\n",
       "  </tbody>\n",
       "</table>\n",
       "</div>"
      ],
      "text/plain": [
       "                 track_id                   artists       album_name  \\\n",
       "0  0000vdREvCVMxbQTkS888c                      Rill            Lolly   \n",
       "1  000CC8EParg64OmTxVnZ0p                 Glee Cast  Glee Love Songs   \n",
       "2  000Iz0K615UepwSJ5z2RE5  Paul Kalkbrenner;Pig&Dan                X   \n",
       "3  000RDCYioLteXcutOjeweY             Jordan Sandhu       Teeje Week   \n",
       "4  000qpdoc97IMTBvF8gwcpy          Paul Kalkbrenner             Zeit   \n",
       "\n",
       "                                          track_name  popularity  duration_ms  \\\n",
       "0                                              Lolly          44       160725   \n",
       "1  It's All Coming Back To Me Now (Glee Cast Vers...          47       322933   \n",
       "2                      Böxig Leise - Pig & Dan Remix          22       515360   \n",
       "3                                         Teeje Week          62       190203   \n",
       "4                                               Tief          19       331240   \n",
       "\n",
       "   danceability  energy  key  mode  valence    tempo  time_signature  \\\n",
       "0         0.910   0.374    8     0    0.432  104.042               4   \n",
       "1         0.269   0.516    0     1    0.341  178.174               4   \n",
       "2         0.686   0.560    5     0    0.108  119.997               4   \n",
       "3         0.679   0.770    0     1    0.839  161.721               4   \n",
       "4         0.519   0.431    6     0    0.234  129.971               4   \n",
       "\n",
       "        track_genre cam_key  \n",
       "0          {german}      1A  \n",
       "1            {club}      8B  \n",
       "2  {minimal-techno}      4A  \n",
       "3         {hip-hop}      8B  \n",
       "4  {minimal-techno}     11A  "
      ]
     },
     "execution_count": 84,
     "metadata": {},
     "output_type": "execute_result"
    }
   ],
   "source": [
    "df.head()"
   ]
  },
  {
   "cell_type": "code",
   "execution_count": 87,
   "id": "b47128a3",
   "metadata": {},
   "outputs": [
    {
     "data": {
      "text/html": [
       "<div>\n",
       "<style scoped>\n",
       "    .dataframe tbody tr th:only-of-type {\n",
       "        vertical-align: middle;\n",
       "    }\n",
       "\n",
       "    .dataframe tbody tr th {\n",
       "        vertical-align: top;\n",
       "    }\n",
       "\n",
       "    .dataframe thead th {\n",
       "        text-align: right;\n",
       "    }\n",
       "</style>\n",
       "<table border=\"1\" class=\"dataframe\">\n",
       "  <thead>\n",
       "    <tr style=\"text-align: right;\">\n",
       "      <th></th>\n",
       "      <th>track_id</th>\n",
       "      <th>artists</th>\n",
       "      <th>album_name</th>\n",
       "      <th>track_name</th>\n",
       "      <th>popularity</th>\n",
       "      <th>duration_ms</th>\n",
       "      <th>danceability</th>\n",
       "      <th>energy</th>\n",
       "      <th>key</th>\n",
       "      <th>mode</th>\n",
       "      <th>valence</th>\n",
       "      <th>tempo</th>\n",
       "      <th>time_signature</th>\n",
       "      <th>track_genre</th>\n",
       "      <th>cam_key</th>\n",
       "    </tr>\n",
       "  </thead>\n",
       "  <tbody>\n",
       "    <tr>\n",
       "      <th>1</th>\n",
       "      <td>000CC8EParg64OmTxVnZ0p</td>\n",
       "      <td>Glee Cast</td>\n",
       "      <td>Glee Love Songs</td>\n",
       "      <td>It's All Coming Back To Me Now (Glee Cast Vers...</td>\n",
       "      <td>47</td>\n",
       "      <td>322933</td>\n",
       "      <td>0.269</td>\n",
       "      <td>0.516</td>\n",
       "      <td>0</td>\n",
       "      <td>1</td>\n",
       "      <td>0.341</td>\n",
       "      <td>178.174</td>\n",
       "      <td>4</td>\n",
       "      <td>{club}</td>\n",
       "      <td>8B</td>\n",
       "    </tr>\n",
       "    <tr>\n",
       "      <th>3</th>\n",
       "      <td>000RDCYioLteXcutOjeweY</td>\n",
       "      <td>Jordan Sandhu</td>\n",
       "      <td>Teeje Week</td>\n",
       "      <td>Teeje Week</td>\n",
       "      <td>62</td>\n",
       "      <td>190203</td>\n",
       "      <td>0.679</td>\n",
       "      <td>0.770</td>\n",
       "      <td>0</td>\n",
       "      <td>1</td>\n",
       "      <td>0.839</td>\n",
       "      <td>161.721</td>\n",
       "      <td>4</td>\n",
       "      <td>{hip-hop}</td>\n",
       "      <td>8B</td>\n",
       "    </tr>\n",
       "    <tr>\n",
       "      <th>23</th>\n",
       "      <td>006rHBBNLJMpQs8fRC2GDe</td>\n",
       "      <td>Calcinha Preta;Gusttavo Lima</td>\n",
       "      <td>CP 25 Anos (Ao Vivo em Aracaju)</td>\n",
       "      <td>Agora Estou Sofrendo - Ao Vivo</td>\n",
       "      <td>47</td>\n",
       "      <td>260510</td>\n",
       "      <td>0.605</td>\n",
       "      <td>0.678</td>\n",
       "      <td>0</td>\n",
       "      <td>1</td>\n",
       "      <td>0.439</td>\n",
       "      <td>125.059</td>\n",
       "      <td>4</td>\n",
       "      <td>{pagode, forro, sertanejo}</td>\n",
       "      <td>8B</td>\n",
       "    </tr>\n",
       "    <tr>\n",
       "      <th>33</th>\n",
       "      <td>009MGoCC568mI1yvsbmTxw</td>\n",
       "      <td>Justnormal</td>\n",
       "      <td>Guessing Game</td>\n",
       "      <td>Park Bench</td>\n",
       "      <td>8</td>\n",
       "      <td>128984</td>\n",
       "      <td>0.805</td>\n",
       "      <td>0.503</td>\n",
       "      <td>0</td>\n",
       "      <td>1</td>\n",
       "      <td>0.515</td>\n",
       "      <td>97.964</td>\n",
       "      <td>4</td>\n",
       "      <td>{study}</td>\n",
       "      <td>8B</td>\n",
       "    </tr>\n",
       "    <tr>\n",
       "      <th>38</th>\n",
       "      <td>00BYitnjj9tACCkLapk5uS</td>\n",
       "      <td>Silverchair</td>\n",
       "      <td>Neon Ballroom</td>\n",
       "      <td>Satin Sheets</td>\n",
       "      <td>25</td>\n",
       "      <td>144333</td>\n",
       "      <td>0.345</td>\n",
       "      <td>0.844</td>\n",
       "      <td>0</td>\n",
       "      <td>1</td>\n",
       "      <td>0.384</td>\n",
       "      <td>161.465</td>\n",
       "      <td>4</td>\n",
       "      <td>{grunge}</td>\n",
       "      <td>8B</td>\n",
       "    </tr>\n",
       "  </tbody>\n",
       "</table>\n",
       "</div>"
      ],
      "text/plain": [
       "                  track_id                       artists  \\\n",
       "1   000CC8EParg64OmTxVnZ0p                     Glee Cast   \n",
       "3   000RDCYioLteXcutOjeweY                 Jordan Sandhu   \n",
       "23  006rHBBNLJMpQs8fRC2GDe  Calcinha Preta;Gusttavo Lima   \n",
       "33  009MGoCC568mI1yvsbmTxw                    Justnormal   \n",
       "38  00BYitnjj9tACCkLapk5uS                   Silverchair   \n",
       "\n",
       "                         album_name  \\\n",
       "1                   Glee Love Songs   \n",
       "3                        Teeje Week   \n",
       "23  CP 25 Anos (Ao Vivo em Aracaju)   \n",
       "33                    Guessing Game   \n",
       "38                    Neon Ballroom   \n",
       "\n",
       "                                           track_name  popularity  \\\n",
       "1   It's All Coming Back To Me Now (Glee Cast Vers...          47   \n",
       "3                                          Teeje Week          62   \n",
       "23                     Agora Estou Sofrendo - Ao Vivo          47   \n",
       "33                                         Park Bench           8   \n",
       "38                                       Satin Sheets          25   \n",
       "\n",
       "    duration_ms  danceability  energy  key  mode  valence    tempo  \\\n",
       "1        322933         0.269   0.516    0     1    0.341  178.174   \n",
       "3        190203         0.679   0.770    0     1    0.839  161.721   \n",
       "23       260510         0.605   0.678    0     1    0.439  125.059   \n",
       "33       128984         0.805   0.503    0     1    0.515   97.964   \n",
       "38       144333         0.345   0.844    0     1    0.384  161.465   \n",
       "\n",
       "    time_signature                 track_genre cam_key  \n",
       "1                4                      {club}      8B  \n",
       "3                4                   {hip-hop}      8B  \n",
       "23               4  {pagode, forro, sertanejo}      8B  \n",
       "33               4                     {study}      8B  \n",
       "38               4                    {grunge}      8B  "
      ]
     },
     "execution_count": 87,
     "metadata": {},
     "output_type": "execute_result"
    }
   ],
   "source": [
    "# Testing to see if you can filter by cam_key\n",
    "df[df['cam_key'] == \"8B\"].head()"
   ]
  },
  {
   "cell_type": "markdown",
   "id": "7dfc0b20",
   "metadata": {},
   "source": [
    "## Making the Neighbor Filtering Rules\n",
    "\n",
    "The next two functions help with the filtering rules. I'll use this to create a new column for all of the edges between the nodes of the songs."
   ]
  },
  {
   "cell_type": "code",
   "execution_count": 90,
   "id": "c10d92fb",
   "metadata": {},
   "outputs": [],
   "source": [
    "def find_intersection(song_specific_genres,valid_set_of_genres):\n",
    "    \n",
    "    '''\n",
    "    A function to find the 'genre intersection' between a target song and other 'valid' songs\n",
    "    \n",
    "    \n",
    "    @param valid_set_of_genres: set of genres from dataframe\n",
    "    \n",
    "    @return: int indicating amount of genres in common \n",
    "    '''\n",
    "    \n",
    "    # just to make sure the input is a set\n",
    "    song_specific_genres = set(song_specific_genres)\n",
    "    valid_set_of_genres = set(valid_set_of_genres)\n",
    "    \n",
    "    # Return number of common genres\n",
    "    return len(song_specific_genres & valid_set_of_genres)"
   ]
  },
  {
   "cell_type": "code",
   "execution_count": 100,
   "id": "aa483a05",
   "metadata": {},
   "outputs": [],
   "source": [
    "def updated_find_neighbors(song,danceability=0.5,popularity=45):\n",
    "    '''\n",
    "    ** Need to convert to using track_id instead of row **\n",
    "    \n",
    "    function used to filter to valid DJ songs that work (hypothetically)\n",
    "    \n",
    "    @param song: row of df to match, e.g. df.iloc[0]\n",
    "    @param danceability: float from 0 -> 1 indicating spotifies danceability metric\n",
    "    @param danceability: float from 0 -> 1 indicating spotifies danceability metric    \n",
    "    \n",
    "    @return: list of valid ids\n",
    "    '''\n",
    "    \n",
    "    # getting song from id\n",
    "#     track_id = _track_id\n",
    "#     song = df[df['track_id']==_track_id]\n",
    "    \n",
    "    \n",
    "    # quick calculations to help with finding neighbors \n",
    "    cam_key = keys.generate_camelot_key(song.mode,song.key)\n",
    "    valid_cam_keys = keys._get_matching_keys(cam_key)\n",
    "    brange = _calc_bpm_range(song.tempo)\n",
    "    \n",
    "        \n",
    "    # filtering rules for creating small df\n",
    "    small_df = df[(df['tempo']>brange[0]) & (df['tempo']<brange[1]) & (df['danceability']>danceability) & (df['popularity']>popularity) & (df['cam_key'].isin(valid_cam_keys)) & (df['track_id'] != song.track_id)]\n",
    "    \n",
    "    # apply genre filtering rule with genres (create new column, make) #should I weight the amount of genres??\n",
    "    small_df['weight'] = small_df.apply(lambda x: find_intersection(song_specific_genres = x['track_genre'],valid_set_of_genres = {'edm'}), axis=1)\n",
    "    \n",
    "    small_df = small_df[small_df['weight']>0]\n",
    "    \n",
    "    # return a list of valid track ids\n",
    "    \n",
    "    return small_df['track_id'].tolist()\n",
    "\n"
   ]
  },
  {
   "cell_type": "code",
   "execution_count": 102,
   "id": "df1aed21",
   "metadata": {
    "scrolled": true
   },
   "outputs": [
    {
     "name": "stdout",
     "output_type": "stream",
     "text": [
      "Somebody To Love\n"
     ]
    },
    {
     "data": {
      "text/plain": [
       "45"
      ]
     },
     "execution_count": 102,
     "metadata": {},
     "output_type": "execute_result"
    }
   ],
   "source": [
    "# one additional recommendation!\n",
    "bieb = df.iloc[30021]\n",
    "print(bieb.track_name)\n",
    "len(updated_find_neighbors(bieb))"
   ]
  },
  {
   "cell_type": "code",
   "execution_count": null,
   "id": "735ce828",
   "metadata": {},
   "outputs": [],
   "source": [
    "# create edges by \n",
    "\n",
    "#df['edges'] = df['cam_key'].map(keys._get_matching_keys)"
   ]
  },
  {
   "cell_type": "code",
   "execution_count": 106,
   "id": "af8ffe44",
   "metadata": {},
   "outputs": [
    {
     "data": {
      "text/plain": [
       "pandas.core.frame.DataFrame"
      ]
     },
     "execution_count": 106,
     "metadata": {},
     "output_type": "execute_result"
    }
   ],
   "source": [
    "meduza_df = df[df['track_id'] == '0343bYQtSfznf6v90jRLRK']\n",
    "type(meduza_df)"
   ]
  },
  {
   "cell_type": "code",
   "execution_count": 104,
   "id": "af8f1314",
   "metadata": {},
   "outputs": [
    {
     "data": {
      "text/plain": [
       "pandas.core.series.Series"
      ]
     },
     "execution_count": 104,
     "metadata": {},
     "output_type": "execute_result"
    }
   ],
   "source": [
    "meduza_series = df.iloc[586]\n",
    "type(meduza_series)"
   ]
  },
  {
   "cell_type": "code",
   "execution_count": 105,
   "id": "cd8bf850",
   "metadata": {},
   "outputs": [
    {
     "ename": "TypeError",
     "evalue": "unhashable type: 'Series'",
     "output_type": "error",
     "traceback": [
      "\u001b[0;31m---------------------------------------------------------------------------\u001b[0m",
      "\u001b[0;31mTypeError\u001b[0m                                 Traceback (most recent call last)",
      "\u001b[0;32m/var/folders/kv/4qctrygx7fd_7gn7jx7c_f280000gn/T/ipykernel_9872/3714914871.py\u001b[0m in \u001b[0;36m<module>\u001b[0;34m\u001b[0m\n\u001b[0;32m----> 1\u001b[0;31m \u001b[0mupdated_find_neighbors\u001b[0m\u001b[0;34m(\u001b[0m\u001b[0mmeduza_df\u001b[0m\u001b[0;34m)\u001b[0m\u001b[0;34m\u001b[0m\u001b[0;34m\u001b[0m\u001b[0m\n\u001b[0m",
      "\u001b[0;32m/var/folders/kv/4qctrygx7fd_7gn7jx7c_f280000gn/T/ipykernel_9872/4000054392.py\u001b[0m in \u001b[0;36mupdated_find_neighbors\u001b[0;34m(song, danceability, popularity)\u001b[0m\n\u001b[1;32m     18\u001b[0m \u001b[0;34m\u001b[0m\u001b[0m\n\u001b[1;32m     19\u001b[0m     \u001b[0;31m# quick calculations to help with finding neighbors\u001b[0m\u001b[0;34m\u001b[0m\u001b[0;34m\u001b[0m\u001b[0m\n\u001b[0;32m---> 20\u001b[0;31m     \u001b[0mcam_key\u001b[0m \u001b[0;34m=\u001b[0m \u001b[0mkeys\u001b[0m\u001b[0;34m.\u001b[0m\u001b[0mgenerate_camelot_key\u001b[0m\u001b[0;34m(\u001b[0m\u001b[0msong\u001b[0m\u001b[0;34m.\u001b[0m\u001b[0mmode\u001b[0m\u001b[0;34m,\u001b[0m\u001b[0msong\u001b[0m\u001b[0;34m.\u001b[0m\u001b[0mkey\u001b[0m\u001b[0;34m)\u001b[0m\u001b[0;34m\u001b[0m\u001b[0;34m\u001b[0m\u001b[0m\n\u001b[0m\u001b[1;32m     21\u001b[0m     \u001b[0mvalid_cam_keys\u001b[0m \u001b[0;34m=\u001b[0m \u001b[0mkeys\u001b[0m\u001b[0;34m.\u001b[0m\u001b[0m_get_matching_keys\u001b[0m\u001b[0;34m(\u001b[0m\u001b[0mcam_key\u001b[0m\u001b[0;34m)\u001b[0m\u001b[0;34m\u001b[0m\u001b[0;34m\u001b[0m\u001b[0m\n\u001b[1;32m     22\u001b[0m     \u001b[0mbrange\u001b[0m \u001b[0;34m=\u001b[0m \u001b[0m_calc_bpm_range\u001b[0m\u001b[0;34m(\u001b[0m\u001b[0msong\u001b[0m\u001b[0;34m.\u001b[0m\u001b[0mtempo\u001b[0m\u001b[0;34m)\u001b[0m\u001b[0;34m\u001b[0m\u001b[0;34m\u001b[0m\u001b[0m\n",
      "\u001b[0;32m~/code/school/info_capstone/keys.py\u001b[0m in \u001b[0;36mgenerate_camelot_key\u001b[0;34m(mode, pitch_class)\u001b[0m\n\u001b[1;32m     76\u001b[0m         \u001b[0;32mreturn\u001b[0m \u001b[0mmajor_pitch_class_to_camelot_map\u001b[0m\u001b[0;34m[\u001b[0m\u001b[0mpitch_class\u001b[0m\u001b[0;34m]\u001b[0m\u001b[0;34m\u001b[0m\u001b[0;34m\u001b[0m\u001b[0m\n\u001b[1;32m     77\u001b[0m     \u001b[0;32melse\u001b[0m\u001b[0;34m:\u001b[0m\u001b[0;34m\u001b[0m\u001b[0;34m\u001b[0m\u001b[0m\n\u001b[0;32m---> 78\u001b[0;31m         \u001b[0;32mreturn\u001b[0m \u001b[0mminor_pitch_class_to_camelot_map\u001b[0m\u001b[0;34m[\u001b[0m\u001b[0mpitch_class\u001b[0m\u001b[0;34m]\u001b[0m\u001b[0;34m\u001b[0m\u001b[0;34m\u001b[0m\u001b[0m\n\u001b[0m\u001b[1;32m     79\u001b[0m \u001b[0;34m\u001b[0m\u001b[0m\n\u001b[1;32m     80\u001b[0m \u001b[0;34m\u001b[0m\u001b[0m\n",
      "\u001b[0;31mTypeError\u001b[0m: unhashable type: 'Series'"
     ]
    }
   ],
   "source": [
    "updated_find_neighbors(meduza_df)"
   ]
  },
  {
   "cell_type": "code",
   "execution_count": null,
   "id": "6560f804",
   "metadata": {},
   "outputs": [],
   "source": []
  },
  {
   "cell_type": "code",
   "execution_count": null,
   "id": "6d76e989",
   "metadata": {},
   "outputs": [],
   "source": [
    "len(updated_find_neighbors(meduza_series))"
   ]
  },
  {
   "cell_type": "code",
   "execution_count": null,
   "id": "25f535fe",
   "metadata": {},
   "outputs": [],
   "source": [
    "meduza_series"
   ]
  },
  {
   "cell_type": "code",
   "execution_count": null,
   "id": "7c0df8ae",
   "metadata": {},
   "outputs": [],
   "source": []
  }
 ],
 "metadata": {
  "kernelspec": {
   "display_name": "Python 3 (ipykernel)",
   "language": "python",
   "name": "python3"
  },
  "language_info": {
   "codemirror_mode": {
    "name": "ipython",
    "version": 3
   },
   "file_extension": ".py",
   "mimetype": "text/x-python",
   "name": "python",
   "nbconvert_exporter": "python",
   "pygments_lexer": "ipython3",
   "version": "3.9.13"
  }
 },
 "nbformat": 4,
 "nbformat_minor": 5
}
